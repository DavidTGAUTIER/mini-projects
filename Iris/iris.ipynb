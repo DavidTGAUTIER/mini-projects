{
 "cells": [
  {
   "cell_type": "code",
   "execution_count": 10,
   "metadata": {},
   "outputs": [],
   "source": [
    "iris = open(\"./src/Iris.txt\")\n",
    "raw_data = iris.readlines()\n",
    "iris.close()"
   ]
  },
  {
   "cell_type": "code",
   "execution_count": 11,
   "metadata": {},
   "outputs": [
    {
     "data": {
      "text/plain": [
       "['\"Sepal Length\"\\t\"Sepal Width\"\\t\"Petal Length\"\\t\"Petal Width\"\\t\"Species\"\\n',\n",
       " '5.1\\t3.5\\t1.4\\t0.2\\tsetosa\\n',\n",
       " '4.9\\t3\\t1.4\\t0.2\\tsetosa\\n',\n",
       " '4.7\\t3.2\\t1.3\\t0.2\\tsetosa\\n',\n",
       " '4.6\\t3.1\\t1.5\\t0.2\\tsetosa\\n']"
      ]
     },
     "execution_count": 11,
     "metadata": {},
     "output_type": "execute_result"
    }
   ],
   "source": [
    "raw_data[:5]"
   ]
  },
  {
   "attachments": {},
   "cell_type": "markdown",
   "metadata": {},
   "source": [
    "### Liste de listes"
   ]
  },
  {
   "attachments": {},
   "cell_type": "markdown",
   "metadata": {},
   "source": [
    "A partir de la liste de strings obtenue, on va créer une liste de 151 listes.\n",
    "\n",
    "* Chaque sous-liste contiendra les 5 informations présentes sur chaque ligne (séparées par des \";\")\n",
    "* Supprimer les quotes (\"'\") et le caractère de fin de ligne (\"\\n\")"
   ]
  },
  {
   "cell_type": "code",
   "execution_count": 12,
   "metadata": {},
   "outputs": [
    {
     "data": {
      "text/plain": [
       "[['Sepal Length', 'Sepal Width', 'Petal Length', 'Petal Width', 'Species'],\n",
       " ['5.1', '3.5', '1.4', '0.2', 'setosa'],\n",
       " ['4.9', '3', '1.4', '0.2', 'setosa'],\n",
       " ['4.7', '3.2', '1.3', '0.2', 'setosa'],\n",
       " ['4.6', '3.1', '1.5', '0.2', 'setosa']]"
      ]
     },
     "execution_count": 12,
     "metadata": {},
     "output_type": "execute_result"
    }
   ],
   "source": [
    "rows = []\n",
    "for r in raw_data:\n",
    "    ra = r.replace('\"', '')\n",
    "    rb = ra.replace('\\n', '')\n",
    "    rc = rb.split('\\t')\n",
    "    rows.append(rc)\n",
    "rows[:5]"
   ]
  },
  {
   "attachments": {},
   "cell_type": "markdown",
   "metadata": {},
   "source": [
    "Voici le preprocessing en une seule ligne, avec une comprehension-list"
   ]
  },
  {
   "cell_type": "code",
   "execution_count": 13,
   "metadata": {},
   "outputs": [
    {
     "data": {
      "text/plain": [
       "[['Sepal Length', 'Sepal Width', 'Petal Length', 'Petal Width', 'Species'],\n",
       " ['5.1', '3.5', '1.4', '0.2', 'setosa'],\n",
       " ['4.9', '3', '1.4', '0.2', 'setosa'],\n",
       " ['4.7', '3.2', '1.3', '0.2', 'setosa'],\n",
       " ['4.6', '3.1', '1.5', '0.2', 'setosa']]"
      ]
     },
     "execution_count": 13,
     "metadata": {},
     "output_type": "execute_result"
    }
   ],
   "source": [
    "rows = [r.replace('\\n', '').replace('\"', '').split('\\t') for r in raw_data]\n",
    "rows[:5]"
   ]
  },
  {
   "attachments": {},
   "cell_type": "markdown",
   "metadata": {},
   "source": [
    "### Fonction qui permet de transformer une string en reel(float)"
   ]
  },
  {
   "cell_type": "code",
   "execution_count": 14,
   "metadata": {},
   "outputs": [],
   "source": [
    "def str_to_float(x):\n",
    "    try:\n",
    "        r = float(x)\n",
    "    except:\n",
    "        r = x\n",
    "    finally:\n",
    "        return r"
   ]
  },
  {
   "cell_type": "code",
   "execution_count": 15,
   "metadata": {},
   "outputs": [
    {
     "name": "stdout",
     "output_type": "stream",
     "text": [
      "5.2 <class 'float'>\n",
      "setosa <class 'str'>\n"
     ]
    }
   ],
   "source": [
    "print(str_to_float('5.2'), type(str_to_float('5.2')))\n",
    "print(str_to_float('setosa'), type(str_to_float('setosa')))\n"
   ]
  },
  {
   "attachments": {},
   "cell_type": "markdown",
   "metadata": {},
   "source": [
    "### Liste de 150 dictionnaires"
   ]
  },
  {
   "attachments": {},
   "cell_type": "markdown",
   "metadata": {},
   "source": [
    "* Chaque dictionnaire sera un iris, avec des champs nommés\n",
    "* Noms des variables sont dans le premier élément de la liste précédemment créée\n",
    "* Idéalement à faire en une fois avec des list comprehension"
   ]
  },
  {
   "attachments": {},
   "cell_type": "markdown",
   "metadata": {},
   "source": [
    "ex:</br>\n",
    "\n",
    "Resultat de notre liste :</br>\n",
    "```python\n",
    "[['Sepal Length', 'Sepal Width', 'Petal Length', 'Petal Width', 'Species'],\n",
    " ['5.1', '3.5', '1.4', '0.2', 'setosa'],\n",
    "```\n",
    "\n",
    "Resultat souhaité :</br>\n",
    "```python\n",
    "[{'Sepal Length': 5.1,\n",
    "  'Sepal Width': 3.5,\n",
    "  'Petal Length': 1.4,\n",
    "  'Petal Width': 0.2,\n",
    "  'Species': 'setosa'},\n",
    "```"
   ]
  },
  {
   "cell_type": "code",
   "execution_count": 17,
   "metadata": {},
   "outputs": [
    {
     "data": {
      "text/plain": [
       "[{'Sepal Length': 5.1,\n",
       "  'Sepal Width': 3.5,\n",
       "  'Petal Length': 1.4,\n",
       "  'Petal Width': 0.2,\n",
       "  'Species': 'setosa'},\n",
       " {'Sepal Length': 4.9,\n",
       "  'Sepal Width': 3.0,\n",
       "  'Petal Length': 1.4,\n",
       "  'Petal Width': 0.2,\n",
       "  'Species': 'setosa'}]"
      ]
     },
     "execution_count": 17,
     "metadata": {},
     "output_type": "execute_result"
    }
   ],
   "source": [
    "# on recupère la ligne avec les entêtes des catégories\n",
    "vars = rows[0]\n",
    "\n",
    "iris = []\n",
    "# pour chaque ligne de notre liste de listes (commençant à 1 car on passe l'entete)\n",
    "for row in rows[1:]:\n",
    "    # on transforme chaque valeur soit en str soit en float\n",
    "    m = map(str_to_float, row)\n",
    "    # on crée un dictionnaire pour chaque ligne\n",
    "    # clés:vars, values:mapping\n",
    "    d= dict(zip(vars, m))\n",
    "    iris.append(d)\n",
    "iris[:2]"
   ]
  },
  {
   "cell_type": "code",
   "execution_count": 18,
   "metadata": {},
   "outputs": [
    {
     "data": {
      "text/plain": [
       "[{'Sepal Length': 5.1,\n",
       "  'Sepal Width': 3.5,\n",
       "  'Petal Length': 1.4,\n",
       "  'Petal Width': 0.2,\n",
       "  'Species': 'setosa'},\n",
       " {'Sepal Length': 4.9,\n",
       "  'Sepal Width': 3.0,\n",
       "  'Petal Length': 1.4,\n",
       "  'Petal Width': 0.2,\n",
       "  'Species': 'setosa'}]"
      ]
     },
     "execution_count": 18,
     "metadata": {},
     "output_type": "execute_result"
    }
   ],
   "source": [
    "vars = rows[0]\n",
    "iris = [dict(zip(vars, map(str_to_float, row))) for row in rows[1:]]\n",
    "iris[:2]"
   ]
  },
  {
   "attachments": {},
   "cell_type": "markdown",
   "metadata": {},
   "source": [
    "### Calcul du rapport entre Surface petale / Surface sépale"
   ]
  },
  {
   "attachments": {},
   "cell_type": "markdown",
   "metadata": {},
   "source": [
    "On va calculer pour chaque iris, le rapport entre la surface d'un pétale et la surface d'un sépale. \n",
    "\n",
    "La surface est `longueur * largeur` donc elle depend uniquement de ce produit : on va faire le rapport entre les deux produits"
   ]
  },
  {
   "cell_type": "code",
   "execution_count": 24,
   "metadata": {},
   "outputs": [
    {
     "data": {
      "text/plain": [
       "[92.89285714285714,\n",
       " 85.75000000000003,\n",
       " 84.96153846153847,\n",
       " 70.53333333333332,\n",
       " 89.28571428571429]"
      ]
     },
     "execution_count": 24,
     "metadata": {},
     "output_type": "execute_result"
    }
   ],
   "source": [
    "lx = lambda x: (x[\"Sepal Length\"] * x[\"Sepal Length\"]) / (x[\"Petal Length\"] * x[\"Petal Width\"])\n",
    "mx = map(lx, iris)\n",
    "list(mx)[:5]"
   ]
  },
  {
   "cell_type": "code",
   "execution_count": 20,
   "metadata": {},
   "outputs": [
    {
     "name": "stdout",
     "output_type": "stream",
     "text": [
      "150\n"
     ]
    },
    {
     "data": {
      "text/plain": [
       "[92.89285714285714,\n",
       " 85.75000000000003,\n",
       " 84.96153846153847,\n",
       " 70.53333333333332,\n",
       " 89.28571428571429]"
      ]
     },
     "execution_count": 20,
     "metadata": {},
     "output_type": "execute_result"
    }
   ],
   "source": [
    "ratio = list(map(lambda x: (x[\"Sepal Length\"] * x[\"Sepal Length\"]) / (x[\"Petal Length\"] * x[\"Petal Width\"]), iris))\n",
    "print(len(ratio))\n",
    "ratio[:5]"
   ]
  },
  {
   "cell_type": "markdown",
   "metadata": {},
   "source": [
    "### Creation d'une sous-liste ne contenant que les iris setosa"
   ]
  },
  {
   "cell_type": "code",
   "execution_count": 27,
   "metadata": {},
   "outputs": [
    {
     "data": {
      "text/plain": [
       "[{'Sepal Length': 5.1,\n",
       "  'Sepal Width': 3.5,\n",
       "  'Petal Length': 1.4,\n",
       "  'Petal Width': 0.2,\n",
       "  'Species': 'setosa'},\n",
       " {'Sepal Length': 4.9,\n",
       "  'Sepal Width': 3.0,\n",
       "  'Petal Length': 1.4,\n",
       "  'Petal Width': 0.2,\n",
       "  'Species': 'setosa'}]"
      ]
     },
     "execution_count": 27,
     "metadata": {},
     "output_type": "execute_result"
    }
   ],
   "source": [
    "setosa = list(filter(lambda x: x['Species'] == 'setosa', iris))\n",
    "setosa[:2]"
   ]
  },
  {
   "attachments": {},
   "cell_type": "markdown",
   "metadata": {},
   "source": [
    "### Calcul de la moyenne de chaque variable"
   ]
  },
  {
   "cell_type": "code",
   "execution_count": 28,
   "metadata": {},
   "outputs": [],
   "source": [
    "import functools"
   ]
  },
  {
   "attachments": {},
   "cell_type": "markdown",
   "metadata": {},
   "source": [
    "Decomposition avant le calcul de la moyenne par `functools.reduce`"
   ]
  },
  {
   "cell_type": "code",
   "execution_count": 34,
   "metadata": {},
   "outputs": [
    {
     "name": "stdout",
     "output_type": "stream",
     "text": [
      "Sepal Length\n",
      "Sepal Width\n",
      "Petal Length\n",
      "Petal Width\n"
     ]
    }
   ],
   "source": [
    "for k in vars[:-1]:\n",
    "    print(k)"
   ]
  },
  {
   "cell_type": "code",
   "execution_count": 35,
   "metadata": {},
   "outputs": [
    {
     "data": {
      "text/plain": [
       "{'Sepal Length': 5.1,\n",
       " 'Sepal Width': 3.5,\n",
       " 'Petal Length': 1.4,\n",
       " 'Petal Width': 0.2,\n",
       " 'Species': 'setosa'}"
      ]
     },
     "execution_count": 35,
     "metadata": {},
     "output_type": "execute_result"
    }
   ],
   "source": [
    "iris[0]"
   ]
  },
  {
   "attachments": {},
   "cell_type": "markdown",
   "metadata": {},
   "source": [
    "la fonction `reduce(lambda x, y: x+y, [1, 2, 3, 4, 5])` calcule `((((1+2)+3)+4)+5)`\n",
    "\n",
    "Donc la fonction `reduce(lambda x,y: {k(x.get(k) + y.get(k)) for k in vars[:-1]}, iris)` va calculer pour chaque $k$ (par ex: chaque `Sepal Length`) la somme cumulée : `iris[0]['Sepal Length'] + iris[1]['Sepal Length'] + ... iris[149]['Sepal Length']`"
   ]
  },
  {
   "cell_type": "code",
   "execution_count": 29,
   "metadata": {},
   "outputs": [
    {
     "data": {
      "text/plain": [
       "{'Sepal Length': 876.5000000000002,\n",
       " 'Sepal Width': 458.60000000000014,\n",
       " 'Petal Length': 563.7000000000004,\n",
       " 'Petal Width': 179.90000000000012}"
      ]
     },
     "execution_count": 29,
     "metadata": {},
     "output_type": "execute_result"
    }
   ],
   "source": [
    "somme = functools.reduce(lambda x,y: {k:(x.get(k) + y.get(k)) for k in vars[:-1]}, iris)\n",
    "somme"
   ]
  },
  {
   "cell_type": "code",
   "execution_count": 30,
   "metadata": {},
   "outputs": [
    {
     "data": {
      "text/plain": [
       "{'Sepal Length': 5.84,\n",
       " 'Sepal Width': 3.06,\n",
       " 'Petal Length': 3.76,\n",
       " 'Petal Width': 1.2}"
      ]
     },
     "execution_count": 30,
     "metadata": {},
     "output_type": "execute_result"
    }
   ],
   "source": [
    "moyenne = dict(zip(somme.keys(), [round(x/150, 2) for x in somme.values()]))\n",
    "moyenne"
   ]
  },
  {
   "cell_type": "code",
   "execution_count": 31,
   "metadata": {},
   "outputs": [
    {
     "data": {
      "text/plain": [
       "{'Sepal Length': 5.84,\n",
       " 'Sepal Width': 3.06,\n",
       " 'Petal Length': 3.76,\n",
       " 'Petal Width': 1.2}"
      ]
     },
     "execution_count": 31,
     "metadata": {},
     "output_type": "execute_result"
    }
   ],
   "source": [
    "dict(zip(vars[:-1], [round(x/150, 2) for x in functools.reduce(lambda x,y: {k:(x.get(k)+y.get(k)) for k in vars[:-1]}, iris).values()]))"
   ]
  },
  {
   "attachments": {},
   "cell_type": "markdown",
   "metadata": {},
   "source": [
    "### Calcul de la moyenne de chaque variable pour chaque espèce"
   ]
  },
  {
   "attachments": {},
   "cell_type": "markdown",
   "metadata": {},
   "source": [
    "On recupère déjà la liste des espèces présentes dans la clé `Species`."
   ]
  },
  {
   "cell_type": "code",
   "execution_count": 47,
   "metadata": {},
   "outputs": [
    {
     "name": "stdout",
     "output_type": "stream",
     "text": [
      "{'Sepal Length': 5.1, 'Sepal Width': 3.5, 'Petal Length': 1.4, 'Petal Width': 0.2, 'Species': 'setosa'}\n",
      "\n",
      "Sepal Length\n",
      "Sepal Width\n",
      "Petal Length\n",
      "Petal Width\n",
      "Species\n"
     ]
    }
   ],
   "source": [
    "for x in iris:\n",
    "    print(x)\n",
    "    print()\n",
    "    break\n",
    "\n",
    "for x in iris[0]:\n",
    "    print(x)"
   ]
  },
  {
   "cell_type": "code",
   "execution_count": 52,
   "metadata": {},
   "outputs": [
    {
     "data": {
      "text/plain": [
       "['setosa', 'setosa', 'versicolor', 'versicolor', 'virginica', 'virginica']"
      ]
     },
     "execution_count": 52,
     "metadata": {},
     "output_type": "execute_result"
    }
   ],
   "source": [
    "[x['Species'] for x in iris][:2] + [x['Species'] for x in iris][50:52] + [x['Species'] for x in iris][-2:]"
   ]
  },
  {
   "cell_type": "code",
   "execution_count": 53,
   "metadata": {},
   "outputs": [
    {
     "data": {
      "text/plain": [
       "['setosa', 'versicolor', 'virginica']"
      ]
     },
     "execution_count": 53,
     "metadata": {},
     "output_type": "execute_result"
    }
   ],
   "source": [
    "species = list(set([x['Species'] for x in iris]))\n",
    "species.sort()\n",
    "species"
   ]
  },
  {
   "attachments": {},
   "cell_type": "markdown",
   "metadata": {},
   "source": [
    "Ensuite, on créé autant de listes que d'espèces présentes, regroupées dans une même liste."
   ]
  },
  {
   "cell_type": "code",
   "execution_count": 55,
   "metadata": {},
   "outputs": [
    {
     "data": {
      "text/plain": [
       "3"
      ]
     },
     "execution_count": 55,
     "metadata": {},
     "output_type": "execute_result"
    }
   ],
   "source": [
    "groups = [list(filter(lambda x: x['Species'] == s, iris)) for s in species]\n",
    "len(groups)"
   ]
  },
  {
   "attachments": {},
   "cell_type": "markdown",
   "metadata": {},
   "source": [
    "Puis, on applique sur chaque sous-liste correspondant à une espèce la même procédure que pour le calcul de la moyenne globale."
   ]
  },
  {
   "cell_type": "code",
   "execution_count": 56,
   "metadata": {},
   "outputs": [
    {
     "data": {
      "text/plain": [
       "[{'Sepal Length': 250.29999999999998,\n",
       "  'Sepal Width': 171.40000000000003,\n",
       "  'Petal Length': 73.10000000000001,\n",
       "  'Petal Width': 12.299999999999995},\n",
       " {'Sepal Length': 296.8,\n",
       "  'Sepal Width': 138.50000000000003,\n",
       "  'Petal Length': 212.99999999999997,\n",
       "  'Petal Width': 66.3},\n",
       " {'Sepal Length': 329.3999999999999,\n",
       "  'Sepal Width': 148.7,\n",
       "  'Petal Length': 277.59999999999997,\n",
       "  'Petal Width': 101.29999999999998}]"
      ]
     },
     "execution_count": 56,
     "metadata": {},
     "output_type": "execute_result"
    }
   ],
   "source": [
    "sums = [functools.reduce(lambda a, b: {k:(a.get(k)+b.get(k)) for k in vars[:-1]}, g) for g in groups]\n",
    "sums"
   ]
  },
  {
   "attachments": {},
   "cell_type": "markdown",
   "metadata": {},
   "source": [
    "On peut simplement calculer les tailles de chaque groupe de cette manière."
   ]
  },
  {
   "cell_type": "code",
   "execution_count": 57,
   "metadata": {},
   "outputs": [
    {
     "data": {
      "text/plain": [
       "[50, 50, 50]"
      ]
     },
     "execution_count": 57,
     "metadata": {},
     "output_type": "execute_result"
    }
   ],
   "source": [
    "sizes = [len(g) for g in groups]\n",
    "sizes"
   ]
  },
  {
   "attachments": {},
   "cell_type": "markdown",
   "metadata": {},
   "source": [
    "Enfin, il est facile d'appliquer aussi la même méthode pour avoir les moyennes par espèces."
   ]
  },
  {
   "cell_type": "code",
   "execution_count": 58,
   "metadata": {},
   "outputs": [
    {
     "data": {
      "text/plain": [
       "[{'Sepal Length': 5.01,\n",
       "  'Sepal Width': 3.43,\n",
       "  'Petal Length': 1.46,\n",
       "  'Petal Width': 0.25},\n",
       " {'Sepal Length': 5.94,\n",
       "  'Sepal Width': 2.77,\n",
       "  'Petal Length': 4.26,\n",
       "  'Petal Width': 1.33},\n",
       " {'Sepal Length': 6.59,\n",
       "  'Sepal Width': 2.97,\n",
       "  'Petal Length': 5.55,\n",
       "  'Petal Width': 2.03}]"
      ]
     },
     "execution_count": 58,
     "metadata": {},
     "output_type": "execute_result"
    }
   ],
   "source": [
    "means = [{key:round(sums[i][key] / sizes[i], 2) for key in sums[i]} for i in range(len(species))]\n",
    "means"
   ]
  },
  {
   "attachments": {},
   "cell_type": "markdown",
   "metadata": {},
   "source": [
    "Au final, pour que ce soit plus clair, on ajoute l'espèce à chaque résultat."
   ]
  },
  {
   "cell_type": "code",
   "execution_count": 59,
   "metadata": {},
   "outputs": [
    {
     "data": {
      "text/plain": [
       "{'setosa': {'Sepal Length': 5.01,\n",
       "  'Sepal Width': 3.43,\n",
       "  'Petal Length': 1.46,\n",
       "  'Petal Width': 0.25},\n",
       " 'versicolor': {'Sepal Length': 5.94,\n",
       "  'Sepal Width': 2.77,\n",
       "  'Petal Length': 4.26,\n",
       "  'Petal Width': 1.33},\n",
       " 'virginica': {'Sepal Length': 6.59,\n",
       "  'Sepal Width': 2.97,\n",
       "  'Petal Length': 5.55,\n",
       "  'Petal Width': 2.03}}"
      ]
     },
     "execution_count": 59,
     "metadata": {},
     "output_type": "execute_result"
    }
   ],
   "source": [
    "dict(zip(species, means))"
   ]
  }
 ],
 "metadata": {
  "kernelspec": {
   "display_name": "jup-env",
   "language": "python",
   "name": "python3"
  },
  "language_info": {
   "codemirror_mode": {
    "name": "ipython",
    "version": 3
   },
   "file_extension": ".py",
   "mimetype": "text/x-python",
   "name": "python",
   "nbconvert_exporter": "python",
   "pygments_lexer": "ipython3",
   "version": "3.10.6"
  },
  "orig_nbformat": 4,
  "vscode": {
   "interpreter": {
    "hash": "2c29f23c4fcab369e3814a227b34c0830db708485dcc4ee1105da4f8812ddee2"
   }
  }
 },
 "nbformat": 4,
 "nbformat_minor": 2
}
